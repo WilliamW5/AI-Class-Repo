{
 "cells": [
  {
   "cell_type": "markdown",
   "metadata": {
    "id": "b_KAvqBCv98p"
   },
   "source": [
    "# William Wiemann\n",
    "\n",
    "## Merging the two dataframe\n",
    "\n",
    "When researching the diabetes database through Sklearn, I noticed they loaded the database as load_diabetes(return_X_y). Doing this returned my X and y. I added columns to the X dataframe, as none were present. \n",
    "\n",
    "Once I worked on the X dataframe, I added the disease_progression label to the y dataset, and merged the two dataframes into one. Doing this gave me a better visualization when using corr(). \n",
    "\n",
    "## Corresponding Values\n",
    "\n",
    "I used a heatmap initially to see the corresponding values. We can see BMI has a large factor on the disease progression. I also posted scatter plots of the same sort of data.\n",
    "\n",
    "## Linear Regression\n",
    "\n",
    "I did a lot of research and found out the data is already preprocessed in the diabetes data set. I did not have to do much, prior for plotting Linear Regression. I split the data into four sets: X_train, X_test, y_train, y_test. This allows me to train a set of data and test it with the other part of the data set. I then used the LinearRegression.predict() to get the predicted values and plot them against the original.\n",
    "\n",
    "## Polynomial Regression and Regularization\n",
    "\n",
    "I have looked into this portion for an entire day, and what I came up with has to be accurate for the data. I looked through so many examples, and this is what the result is. I hope to see a full example of this problem worked out, so I can see where I went wrong."
   ]
  },
  {
   "cell_type": "code",
   "execution_count": 93,
   "metadata": {
    "id": "LvJ6cvIvRdSe"
   },
   "outputs": [],
   "source": [
    "from sklearn.datasets import load_diabetes\n",
    "# Load the data\n",
    "X, y = load_diabetes(return_X_y=True)"
   ]
  },
  {
   "cell_type": "code",
   "execution_count": 94,
   "metadata": {
    "colab": {
     "base_uri": "https://localhost:8080/"
    },
    "id": "fH-6ECJQRdSm",
    "outputId": "8cf48b35-8beb-4de9-b873-0106a2098913"
   },
   "outputs": [
    {
     "data": {
      "text/plain": [
       "(442, 10)"
      ]
     },
     "execution_count": 94,
     "metadata": {},
     "output_type": "execute_result"
    }
   ],
   "source": [
    "X.shape"
   ]
  },
  {
   "cell_type": "code",
   "execution_count": 95,
   "metadata": {
    "colab": {
     "base_uri": "https://localhost:8080/"
    },
    "id": "-AdtlwYkRdSn",
    "outputId": "dc9e1950-3c7a-49d1-beb1-7bfc56c5bfac",
    "scrolled": true
   },
   "outputs": [],
   "source": [
    "y.shape\n",
    "\n",
    "X = pipeline.fit_transform(X)"
   ]
  },
  {
   "cell_type": "code",
   "execution_count": 96,
   "metadata": {},
   "outputs": [
    {
     "ename": "AttributeError",
     "evalue": "'numpy.ndarray' object has no attribute 'to_frame'",
     "output_type": "error",
     "traceback": [
      "\u001b[1;31m---------------------------------------------------------------------------\u001b[0m",
      "\u001b[1;31mAttributeError\u001b[0m                            Traceback (most recent call last)",
      "\u001b[1;32m<ipython-input-96-8f9a51d353f5>\u001b[0m in \u001b[0;36m<module>\u001b[1;34m\u001b[0m\n\u001b[0;32m     10\u001b[0m     \u001b[1;33m(\u001b[0m\u001b[1;34m'std_scaler'\u001b[0m\u001b[1;33m,\u001b[0m \u001b[0mStandardScaler\u001b[0m\u001b[1;33m(\u001b[0m\u001b[1;33m)\u001b[0m\u001b[1;33m)\u001b[0m\u001b[1;33m,\u001b[0m\u001b[1;33m\u001b[0m\u001b[1;33m\u001b[0m\u001b[0m\n\u001b[0;32m     11\u001b[0m ])\n\u001b[1;32m---> 12\u001b[1;33m \u001b[0my\u001b[0m \u001b[1;33m=\u001b[0m \u001b[0my\u001b[0m\u001b[1;33m.\u001b[0m\u001b[0mto_frame\u001b[0m\u001b[1;33m(\u001b[0m\u001b[1;33m)\u001b[0m\u001b[1;33m\u001b[0m\u001b[1;33m\u001b[0m\u001b[0m\n\u001b[0m\u001b[0;32m     13\u001b[0m \u001b[0my\u001b[0m \u001b[1;33m=\u001b[0m \u001b[0mpipeline\u001b[0m\u001b[1;33m.\u001b[0m\u001b[0mfit_transform\u001b[0m\u001b[1;33m(\u001b[0m\u001b[0my\u001b[0m\u001b[1;33m)\u001b[0m\u001b[1;33m\u001b[0m\u001b[1;33m\u001b[0m\u001b[0m\n",
      "\u001b[1;31mAttributeError\u001b[0m: 'numpy.ndarray' object has no attribute 'to_frame'"
     ]
    }
   ],
   "source": [
    "# The purpose of the pipeline is to assemble several steps that can be cross-validated together while setting different parameters.\n",
    "\n",
    "from sklearn.pipeline import Pipeline\n",
    "from sklearn.preprocessing import StandardScaler\n",
    "from sklearn.impute import SimpleImputer\n",
    "\n",
    "\n",
    "pipeline = Pipeline([\n",
    "    ('imputer', SimpleImputer(strategy='median')),\n",
    "    ('std_scaler', StandardScaler()),\n",
    "])\n",
    "y = y.to_frame()\n",
    "y = pipeline.fit_transform(y)"
   ]
  },
  {
   "cell_type": "code",
   "execution_count": null,
   "metadata": {
    "colab": {
     "base_uri": "https://localhost:8080/"
    },
    "id": "mzyP-hUgRdSo",
    "outputId": "efc2cd4d-697c-41aa-9eec-9fe8da1f9d68"
   },
   "outputs": [],
   "source": [
    "import pandas as pd\n",
    "# The data given by sklearn has already been scaled and preprocessed. But missing columns\n",
    "df1 = pd.DataFrame(X, columns=['age', 'sex', 'bmi', 'bp', 'tc', 'ldl', 'hdl', 'tch', 'ltg', 'glu'])\n",
    "print(df1)"
   ]
  },
  {
   "cell_type": "code",
   "execution_count": null,
   "metadata": {
    "colab": {
     "base_uri": "https://localhost:8080/"
    },
    "id": "z_6xBhFyRdSp",
    "outputId": "f02b4e35-fe87-4be4-b5e6-9218a9a4040e"
   },
   "outputs": [],
   "source": [
    "df2 = pd.DataFrame(y, columns=['disease_progression'])\n",
    "print(df2)"
   ]
  },
  {
   "cell_type": "code",
   "execution_count": null,
   "metadata": {
    "colab": {
     "base_uri": "https://localhost:8080/",
     "height": 300
    },
    "id": "BqGMBfX5RdSr",
    "outputId": "d82d0844-b333-4e9d-bf1c-131c00c2fc75"
   },
   "outputs": [],
   "source": [
    "# Merge both DataFrames to see what correlates\n",
    "df = pd.merge(df1, df2, left_index=True, right_index=True)\n",
    "df.describe()"
   ]
  },
  {
   "cell_type": "code",
   "execution_count": null,
   "metadata": {
    "colab": {
     "base_uri": "https://localhost:8080/",
     "height": 650
    },
    "id": "xkL57n38RdSr",
    "outputId": "5ce24948-150e-4400-da99-e963ea2c7504"
   },
   "outputs": [],
   "source": [
    "# I decided to show both a heat map and scatter plot to show correlation\n",
    "# As I like to see a heatmap, myself.\n",
    "import matplotlib.pyplot as plt\n",
    "import seaborn as sns\n",
    "corrmat = df.corr()\n",
    "plt.subplots(figsize=(12,9))\n",
    "sns.heatmap(corrmat, square=True, robust=True, annot=True)"
   ]
  },
  {
   "cell_type": "code",
   "execution_count": null,
   "metadata": {
    "colab": {
     "base_uri": "https://localhost:8080/",
     "height": 1000
    },
    "id": "HbjacPDnRdSs",
    "outputId": "54b548d7-c660-477f-bfe7-c0f50fa63265"
   },
   "outputs": [],
   "source": [
    "from pandas.plotting import scatter_matrix\n",
    "corr = df.corr()\n",
    "scatter_matrix(corr, figsize=(20,12))"
   ]
  },
  {
   "cell_type": "code",
   "execution_count": null,
   "metadata": {
    "colab": {
     "base_uri": "https://localhost:8080/"
    },
    "id": "pg5Hof5LRdSt",
    "outputId": "9ca7bdb4-6624-4e94-a272-23b066f72cde",
    "scrolled": false
   },
   "outputs": [],
   "source": [
    "from sklearn.model_selection import train_test_split\n",
    "import numpy as np\n",
    "\n",
    "# Assigns column to X (highest correlation column - BMI)\n",
    "X = df.iloc[:,2:3]\n",
    "# Assigns column to y (disease progression)\n",
    "y = df.iloc[:,-1]\n",
    "\n",
    "# Split into validation set and training set\n",
    "X_train, X_test, y_train, y_test = train_test_split(X, y, test_size=0.2, random_state=1)\n",
    "\n",
    "X_train.shape, X_test.shape, y_train.shape, y_test.shape"
   ]
  },
  {
   "cell_type": "code",
   "execution_count": null,
   "metadata": {
    "colab": {
     "base_uri": "https://localhost:8080/"
    },
    "id": "VAPSNrK-SQwr",
    "outputId": "52ba88d6-6e63-49c7-b4ae-7cc2e91c4789"
   },
   "outputs": [],
   "source": [
    "from sklearn import linear_model\n",
    "from sklearn.metrics import mean_squared_error\n",
    "# Fit the model\n",
    "lin_reg = linear_model.LinearRegression()\n",
    "lin_reg.fit(X_train, y_train)"
   ]
  },
  {
   "cell_type": "code",
   "execution_count": null,
   "metadata": {
    "colab": {
     "base_uri": "https://localhost:8080/",
     "height": 295
    },
    "id": "ECmDI8sGTL7n",
    "outputId": "fdcb36b3-5138-465e-ffe1-56a276da225e"
   },
   "outputs": [],
   "source": [
    "# Plot and predict the model\n",
    "plt.scatter(X_test, y_test, color='red')\n",
    "plt.plot(X_test, lin_reg.predict(X_test), color='blue', linewidth=2)\n",
    "plt.title('Predicted vs Actual')\n",
    "plt.xlabel('Predicted')\n",
    "plt.ylabel('Actual')\n",
    "\n",
    "plt.show()"
   ]
  },
  {
   "cell_type": "code",
   "execution_count": null,
   "metadata": {},
   "outputs": [],
   "source": [
    "plt.scatter(X_test, y_test, color='red')\n",
    "plt.plot(X_test, pol_reg.predict(poly_reg.fit_transform(X_test)), color='blue', linewidth=2)\n",
    "plt.title('Predicted vs Actual')"
   ]
  },
  {
   "cell_type": "code",
   "execution_count": null,
   "metadata": {},
   "outputs": [],
   "source": [
    "from sklearn.linear_model import LassoCV\n",
    "\n",
    "for degree in [1, 3, 5, 8]:\n",
    "    poly = PolynomialFeatures(degree)\n",
    "    X_ = poly.fit_transform(X)\n",
    "    X_plot_ = poly.fit_transform(X_train)\n",
    "     \n",
    "    model = LassoCV(cv=20)\n",
    "    model.fit(X_, y)\n",
    "    print (\"chosen alpha %d\" % model.alpha_)\n",
    "    y_plot = model.predict(X_plot_)\n",
    "    plt.plot(X_train, y_plot, label=\"degree %d\" % degree)"
   ]
  }
 ],
 "metadata": {
  "colab": {
   "collapsed_sections": [],
   "name": "wiemann_reg.ipynb",
   "provenance": []
  },
  "kernelspec": {
   "display_name": "Python 3",
   "language": "python",
   "name": "python3"
  },
  "language_info": {
   "codemirror_mode": {
    "name": "ipython",
    "version": 3
   },
   "file_extension": ".py",
   "mimetype": "text/x-python",
   "name": "python",
   "nbconvert_exporter": "python",
   "pygments_lexer": "ipython3",
   "version": "3.8.8"
  }
 },
 "nbformat": 4,
 "nbformat_minor": 1
}
