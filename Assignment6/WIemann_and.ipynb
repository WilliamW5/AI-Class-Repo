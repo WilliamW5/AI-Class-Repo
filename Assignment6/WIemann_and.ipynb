{
 "cells": [
  {
   "cell_type": "code",
   "execution_count": 1,
   "metadata": {},
   "outputs": [
    {
     "name": "stdout",
     "output_type": "stream",
     "text": [
      "data: (4, 2)\n",
      "class: (4,)\n"
     ]
    }
   ],
   "source": [
    "import numpy as np\n",
    "import matplotlib.pyplot as plt\n",
    "import tensorflow as tf\n",
    "from tensorflow import keras\n",
    "\n",
    "dat = np.loadtxt('./and.csv', delimiter=',', skiprows=1)\n",
    "data_train = dat[:, :-1] # Extract all columns except the last one (2d)\n",
    "class_train = dat[:, -1] # Extract the last one column only (1d)\n",
    "print('data:', data_train.shape)\n",
    "print('class:', class_train.shape)"
   ]
  },
  {
   "cell_type": "code",
   "execution_count": null,
   "metadata": {},
   "outputs": [],
   "source": [
    "model = keras.models.Sequential()\n",
    "                        # 1 Neuron  # Input is 2d, activation function is sigmoid function\n",
    "model.add(keras.models.Dense(1, input_shape=(2,), activation='sigmoid'))\n",
    "model.compile(optimizer='sgd', loss='binary_crossentropy', metrics=['accuracy'])\n",
    "fit_log = model.fit(data_train, class_train, epochs=1000, batch_size=1)"
   ]
  }
 ],
 "metadata": {
  "interpreter": {
   "hash": "d2741c62eeb6d3c2dbd0c707b9d4df7ca82c89a9cca53ee8435971b6b6816686"
  },
  "kernelspec": {
   "display_name": "Python 3.9.5 64-bit",
   "language": "python",
   "name": "python3"
  },
  "language_info": {
   "codemirror_mode": {
    "name": "ipython",
    "version": 3
   },
   "file_extension": ".py",
   "mimetype": "text/x-python",
   "name": "python",
   "nbconvert_exporter": "python",
   "pygments_lexer": "ipython3",
   "version": "3.9.5"
  },
  "orig_nbformat": 4
 },
 "nbformat": 4,
 "nbformat_minor": 2
}
