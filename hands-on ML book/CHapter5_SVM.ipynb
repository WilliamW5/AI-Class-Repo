{
 "cells": [
  {
   "cell_type": "markdown",
   "metadata": {},
   "source": [
    "# Linear SVM Classification\n",
    "\n",
    "<br>\n",
    "<img src=\"../img/large_mrg_cls.png\" alt=\"Large Margin Classification\" style=\"width: 500px;\"/>"
   ]
  }
 ],
 "metadata": {
  "interpreter": {
   "hash": "362f10d2c1a231c17ac246becce2545daa81640b66c74881ccf242998023883a"
  },
  "kernelspec": {
   "display_name": "Python 3.8.8 ('base')",
   "language": "python",
   "name": "python3"
  },
  "language_info": {
   "name": "python",
   "version": "3.8.8"
  },
  "orig_nbformat": 4
 },
 "nbformat": 4,
 "nbformat_minor": 2
}
