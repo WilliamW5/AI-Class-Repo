{
 "cells": [
  {
   "cell_type": "markdown",
   "metadata": {},
   "source": [
    "# Artificial Neural Network (ANNs)\n",
    "Simulated using ANNs to perform various logical computations using propositional logic.<br>\n",
    "<img src=\"../img/anns_logic_computations.png\" alt=\"ANNs performing simple logical computations\" style=\"width: 500px;\"/><br>\n",
    "## Perceptron\n",
    "One of the simplest ANN architectures. It is based on another artificial neuron called a threshold logic unit (TLU), sometimes called a linear threshold unit (LTU): The inputs and outputs are row numbers (instead of binary on/off values) and each input connection is associated with a weight. The TLU computes a weighted sum of its inputs (z= w_1x_1 + w_2x_2 + ... + w_nx_n = x^Tw) then applies a step function to that sum and outputs the result h_w(x) = step(z), where z = x_tw. <br>\n",
    "<img src=\"../img/threshold_unit.png\" alt=\"Threshold Logic Unit\" style=\"width: 500px;\"/><br>\n",
    "The most common step function used in Perceptrons is the Heaviside step function. <br>\n",
    "<img src=\"../img/common_step_functions.png\" alt=\"Common Step Functions used in Perceptrons\" style=\"width: 500px;\"/><br>\n",
    "A Perceptron is composed of a single layer of TLUs, with each TLU connected to all the inputs. <br>\n",
    "When all neurons in single layer are connected to every neuron in the previous layer (i.e, its input neurons), it is called a **fully connected layer** or a **dense layer**.<br>\n",
    "A Percepton with two inputs and three outputs is represented below. This Perceptron can classify instances simultaneously into three different binary classes, which make it a multi-output classifer.<br>\n",
    "<img src=\"../img/perceptron_diagram.png\" alt=\"Perceptron with two inputs and three outputs\" style=\"width: 500px;\"/><br>\n",
    "<img src=\"../img/computing_output.png\" alt=\"Computing outputs of a fulyl connected layer\" style=\"width: 500px;\"/><br>\n",
    "<br>\n",
    "\"Cells that fire together, wire together\" Siegrid Lowel\n",
    "Also known as Hebb's rule (or Hebbian Learning). That is, the connection weight between two neurons is increased whenever they have the same output. <br>\n",
    "The Perceptron is fed one training instance at a time, and for each instance it makes its predictions. For every output neuron that produced a wrong prediction, it reinforces the connection weights from the inputs that would have contributed to the correct predictions.<br>\n",
    "<img src=\"../img/perceptron_learning_rule.png\" alt=\"Perceptron learning rule (weight update)\" style=\"width: 500px;\"/><br>\n",
    "<br>\n",
    "The decision boundary of each output neuron is linear, so Perceptroms are incapable of learning complex patterns(just like Logistic Regression Classifers). However, if the training instances are linearly seperable, Rosenblatt demonstrated that this algorithm would converge to a solution. This is called the **Perceptron Convergence theorem**."
   ]
  },
  {
   "cell_type": "code",
   "execution_count": 1,
   "metadata": {},
   "outputs": [
    {
     "name": "stderr",
     "output_type": "stream",
     "text": [
      "C:\\Users\\William\\AppData\\Local\\Temp\\ipykernel_11040\\905234873.py:8: DeprecationWarning: `np.int` is a deprecated alias for the builtin `int`. To silence this warning, use `int` by itself. Doing this will not modify any behavior and is safe. When replacing `np.int`, you may wish to use e.g. `np.int64` or `np.int32` to specify the precision. If you wish to review your current use, check the release note link for additional information.\n",
      "Deprecated in NumPy 1.20; for more details and guidance: https://numpy.org/devdocs/release/1.20.0-notes.html#deprecations\n",
      "  y = (iris.target == 0).astype(np.int) # Iris Setosa?\n"
     ]
    }
   ],
   "source": [
    "# Scikit-Learn provides a Perceptron class that implements a single TLU network.\n",
    "import numpy as np\n",
    "from sklearn.datasets import load_iris\n",
    "from sklearn.linear_model import Perceptron\n",
    "\n",
    "iris = load_iris()\n",
    "X = iris.data[:, (2, 3)] # petal length, petal width\n",
    "y = (iris.target == 0).astype(np.int) # Iris Setosa?\n",
    "\n",
    "per_clf = Perceptron()\n",
    "per_clf.fit(X, y)\n",
    "\n",
    "y_pred = per_clf.predict([[2, 0.5]])"
   ]
  },
  {
   "cell_type": "markdown",
   "metadata": {},
   "source": [
    "The limitations of Perceptrons can be eliminated by stacking multiple Perceptrons. The resulting ANN is call a multi-layer Perceptron (MLP). In particular, an MLP can solve the XOR problem, as you can verify by computing the output of the MLP represented on the right of the figure below: with inputs (0, 0) or (1, 1) the network outputs 0, and with the inputs (0, 1) ir (1, 0) it outputs 1. All connections have weight equal to 1, except the four connections where the weight is shown. This network indeed solves the XOR problem! <br>\n",
    "<img src=\"../img/mlp_xor_problem.png\" alt=\"XOR classification problem and an MLP that solves it\" style=\"width: 500px;\"/><br>\n",
    "<br>\n",
    "### Multi-layer Perceptron and Backpropagation\n",
    "An MLP is composed of one (passthrough) input layer, one or more layers of TLUs, called hidden layers, and one final layer of TLUs called the output layer. The layers close to the input layers are usually called the **lower layers** and the ones closer to the output are called the **upper layers**. Every layer except the output layer includes a bias neuron and is fully connected to the next layer.<br>\n",
    "<img src=\"../img/mlp.png\" alt=\"Multi-Layer Perceptron\" style=\"width: 500px;\"/><br>\n",
    "<br>\n",
    "When an ANN contains a deep stack of hidden layers, it is called a deep neural network (DNN). Researchers struggled with training MLPs. When David Rumelhart, Geoffrey Hinton, and Ronald WIlliams introduced backpropagation training algorithm which is, in short, Gradient Descent using an efficient technique for computing the gradients automatically: in just two passes through the network (one forward, one backward), the backpropagation algorithm is able to compute the gradient of the netwrok's error with regards to every single model parameter. In other words, it can find out how each connection weight and each bias term should be tweaked in order to reduce the error. <br>\n",
    "Summarizing the algorith again: for each training instance the backpropagation algorithm first makes a prediction (forward pass), measures the error, then goes through each layer in reverse to measure the error contribution from each connection (reverse pass), and finally slightly tweaks the connection weights to reduce the error (Gradient Descent step)."
   ]
  },
  {
   "cell_type": "code",
   "execution_count": 4,
   "metadata": {},
   "outputs": [],
   "source": [
    "# Building an Image classifier \n",
    "# Using Keras to load a dataset\n",
    "import tensorflow as tf\n",
    "from tensorflow import keras\n",
    "fashion_mnist = keras.datasets.fashion_mnist\n",
    "\n",
    "(X_train_full, y_train_full), (X_test, y_test) = fashion_mnist.load_data()"
   ]
  },
  {
   "cell_type": "code",
   "execution_count": 5,
   "metadata": {},
   "outputs": [
    {
     "data": {
      "text/plain": [
       "(60000, 28, 28)"
      ]
     },
     "execution_count": 5,
     "metadata": {},
     "output_type": "execute_result"
    }
   ],
   "source": [
    "X_train_full.shape"
   ]
  },
  {
   "cell_type": "code",
   "execution_count": 6,
   "metadata": {},
   "outputs": [
    {
     "data": {
      "text/plain": [
       "dtype('uint8')"
      ]
     },
     "execution_count": 6,
     "metadata": {},
     "output_type": "execute_result"
    }
   ],
   "source": [
    "X_train_full.dtype"
   ]
  },
  {
   "cell_type": "code",
   "execution_count": 7,
   "metadata": {},
   "outputs": [],
   "source": [
    "# Creating a validation set\n",
    "# Since we are working with Gradient Descent, we must scale the input features\n",
    "# For simplicity, we scale the pixel intensity down to the 0-1 range by dividing\n",
    "# them by 255.0 (also converts them to float)\n",
    "\n",
    "X_valid, X_train = X_train_full[:5000] / 255.0, X_train_full[5000:] / 255.0\n",
    "y_valid, y_train = y_train_full[:5000], y_train_full[5000:]"
   ]
  },
  {
   "cell_type": "code",
   "execution_count": 10,
   "metadata": {},
   "outputs": [],
   "source": [
    "class_names = [\"T-shirt/top\", \"Trouser\", \"Pullover\", \"Dress\", \"Coat\",\n",
    "               \"Sandal\", \"Shirt\", \"Sneaker\", \"Bag\", \"Ankle boot\"]"
   ]
  },
  {
   "cell_type": "code",
   "execution_count": 13,
   "metadata": {},
   "outputs": [
    {
     "data": {
      "text/plain": [
       "'Coat'"
      ]
     },
     "execution_count": 13,
     "metadata": {},
     "output_type": "execute_result"
    }
   ],
   "source": [
    "class_names[y_train[0]]"
   ]
  },
  {
   "cell_type": "code",
   "execution_count": 14,
   "metadata": {},
   "outputs": [],
   "source": [
    "# Building the Neural Network\n",
    "model = keras.models.Sequential()\n",
    "model.add(keras.layers.Flatten(input_shape=[28,28]))\n",
    "model.add(keras.layers.Dense(300, activation='relu'))\n",
    "model.add(keras.layers.Dense(100, activation='relu'))\n",
    "model.add(keras.layers.Dense(10, activation='softmax'))"
   ]
  },
  {
   "cell_type": "markdown",
   "metadata": {},
   "source": [
    "### Breakdown of the code above\n",
    "model = keras.models.Sequential()\n",
    "- Creates a Sequential model.\n",
    "- This is the simplest kind of model, for neural networks that are just composed of a single stack of layers, connected sequentiall.\n",
    "- This is called the sequential API\n",
    "<br>\n",
    "#\n",
    "model.add(keras.layers.Flatten(input_shape=[28,28]))\n",
    "- Builds the first layer and add it to the model\n",
    "- It is a Flatten layer whose role is simply to convert each input image into a 1D array: if it received input data X, it computes X.reshape(-1,1).\n",
    "- This layer does not have any parameters, it is just there to do simple preprocessing.\n",
    "- Since it's the first layer of the model, you should specify the **input_shape**: this does not include the batch size, only the shape of the instances.\n",
    "- Alternatively, you could add a keras.layers.InputLayer as the first layer, setting shape=[28,28]\n",
    "<br>\n",
    "#\n",
    "model.add(keras.layers.Dense(300, activation='relu'))\n",
    "- Next, we add a Dense hidden layer with 300 neurons. It will use the ReLU activation function.\n",
    "- Each Dense layer manages its own weight matrix, containing all the connection weights between the neurons and their inputs. \n",
    "- Also manages a vector of bias terms (one per neuron).\n",
    "- When it receives some input data, it computes:<br>\n",
    "<img src=\"../img/computing_output.png\" alt=\"Computing outputs of a fulyl connected layer\" style=\"width: 500px;\"/><br>\n",
    "#\n",
    "model.add(keras.layers.Dense(100, activation='relu'))\n",
    "- Next we add a second dense hidden layer with 100 neurons, also using the ReLU activation function.<br>\n",
    "#\n",
    "model.add(keras.layers.Dense(10, activation='softmax'))\n",
    "- Finally, we add a Dense output layer with 10 neurons (one per class), using the softmax activation function (because the classes are exclusive)"
   ]
  },
  {
   "cell_type": "code",
   "execution_count": 15,
   "metadata": {},
   "outputs": [],
   "source": [
    "# Instead of adding the layers one by one, we could do:\n",
    "model = keras.models.Sequential([\n",
    "    keras.layers.Flatten(input_shape=[28,28]),\n",
    "    keras.layers.Dense(300, activation='relu'),\n",
    "    keras.layers.Dense(100, activation='relu'),\n",
    "    keras.layers.Dense(10, activation='softmax')\n",
    "])"
   ]
  },
  {
   "cell_type": "code",
   "execution_count": 16,
   "metadata": {},
   "outputs": [
    {
     "name": "stdout",
     "output_type": "stream",
     "text": [
      "Model: \"sequential_1\"\n",
      "_________________________________________________________________\n",
      " Layer (type)                Output Shape              Param #   \n",
      "=================================================================\n",
      " flatten_1 (Flatten)         (None, 784)               0         \n",
      "                                                                 \n",
      " dense_3 (Dense)             (None, 300)               235500    \n",
      "                                                                 \n",
      " dense_4 (Dense)             (None, 100)               30100     \n",
      "                                                                 \n",
      " dense_5 (Dense)             (None, 10)                1010      \n",
      "                                                                 \n",
      "=================================================================\n",
      "Total params: 266,610\n",
      "Trainable params: 266,610\n",
      "Non-trainable params: 0\n",
      "_________________________________________________________________\n"
     ]
    }
   ],
   "source": [
    "model.summary()"
   ]
  },
  {
   "cell_type": "code",
   "execution_count": 18,
   "metadata": {},
   "outputs": [
    {
     "data": {
      "text/plain": [
       "[<keras.layers.core.flatten.Flatten at 0x12b1cc28580>,\n",
       " <keras.layers.core.dense.Dense at 0x12b1cc28820>,\n",
       " <keras.layers.core.dense.Dense at 0x12b1cc220d0>,\n",
       " <keras.layers.core.dense.Dense at 0x12b01fbc9d0>]"
      ]
     },
     "execution_count": 18,
     "metadata": {},
     "output_type": "execute_result"
    }
   ],
   "source": [
    "# Obtain model's list of layers\n",
    "model.layers"
   ]
  },
  {
   "cell_type": "code",
   "execution_count": 19,
   "metadata": {},
   "outputs": [
    {
     "data": {
      "text/plain": [
       "'dense_3'"
      ]
     },
     "execution_count": 19,
     "metadata": {},
     "output_type": "execute_result"
    }
   ],
   "source": [
    "# Fetch a layer by it's index\n",
    "model.layers[1].name"
   ]
  },
  {
   "cell_type": "code",
   "execution_count": 20,
   "metadata": {},
   "outputs": [
    {
     "data": {
      "text/plain": [
       "'dense_3'"
      ]
     },
     "execution_count": 20,
     "metadata": {},
     "output_type": "execute_result"
    }
   ],
   "source": [
    "# Fetch a layer by it's name\n",
    "model.get_layer('dense_3').name"
   ]
  },
  {
   "cell_type": "code",
   "execution_count": 24,
   "metadata": {},
   "outputs": [
    {
     "data": {
      "text/plain": [
       "array([[-0.05263013, -0.03770253, -0.00352375, ..., -0.01688108,\n",
       "         0.06511584, -0.02911106],\n",
       "       [ 0.03732178, -0.0337542 ,  0.04668865, ...,  0.07274641,\n",
       "         0.06863692,  0.0481708 ],\n",
       "       [-0.06217652, -0.01679416,  0.00659889, ...,  0.05089553,\n",
       "        -0.06837372,  0.06263876],\n",
       "       ...,\n",
       "       [ 0.05098173,  0.07139263, -0.05148792, ...,  0.04269697,\n",
       "         0.00914418,  0.01109549],\n",
       "       [-0.05238184, -0.05849144,  0.05433187, ..., -0.01371299,\n",
       "        -0.03166789, -0.04849031],\n",
       "       [-0.00114647,  0.01543771, -0.00833649, ..., -0.04973795,\n",
       "        -0.04986561,  0.05984688]], dtype=float32)"
      ]
     },
     "execution_count": 24,
     "metadata": {},
     "output_type": "execute_result"
    }
   ],
   "source": [
    "# All parameters of a layer can be accessed using its get_weights() and set_weights() method\n",
    "hidden1 = model.layers[1] #hidden1.name   will output 'dense'\n",
    "weights, biases = hidden1.get_weights()\n",
    "weights"
   ]
  },
  {
   "cell_type": "code",
   "execution_count": 25,
   "metadata": {},
   "outputs": [
    {
     "data": {
      "text/plain": [
       "(784, 300)"
      ]
     },
     "execution_count": 25,
     "metadata": {},
     "output_type": "execute_result"
    }
   ],
   "source": [
    "weights.shape"
   ]
  },
  {
   "cell_type": "code",
   "execution_count": 26,
   "metadata": {},
   "outputs": [
    {
     "data": {
      "text/plain": [
       "array([0., 0., 0., 0., 0., 0., 0., 0., 0., 0., 0., 0., 0., 0., 0., 0., 0.,\n",
       "       0., 0., 0., 0., 0., 0., 0., 0., 0., 0., 0., 0., 0., 0., 0., 0., 0.,\n",
       "       0., 0., 0., 0., 0., 0., 0., 0., 0., 0., 0., 0., 0., 0., 0., 0., 0.,\n",
       "       0., 0., 0., 0., 0., 0., 0., 0., 0., 0., 0., 0., 0., 0., 0., 0., 0.,\n",
       "       0., 0., 0., 0., 0., 0., 0., 0., 0., 0., 0., 0., 0., 0., 0., 0., 0.,\n",
       "       0., 0., 0., 0., 0., 0., 0., 0., 0., 0., 0., 0., 0., 0., 0., 0., 0.,\n",
       "       0., 0., 0., 0., 0., 0., 0., 0., 0., 0., 0., 0., 0., 0., 0., 0., 0.,\n",
       "       0., 0., 0., 0., 0., 0., 0., 0., 0., 0., 0., 0., 0., 0., 0., 0., 0.,\n",
       "       0., 0., 0., 0., 0., 0., 0., 0., 0., 0., 0., 0., 0., 0., 0., 0., 0.,\n",
       "       0., 0., 0., 0., 0., 0., 0., 0., 0., 0., 0., 0., 0., 0., 0., 0., 0.,\n",
       "       0., 0., 0., 0., 0., 0., 0., 0., 0., 0., 0., 0., 0., 0., 0., 0., 0.,\n",
       "       0., 0., 0., 0., 0., 0., 0., 0., 0., 0., 0., 0., 0., 0., 0., 0., 0.,\n",
       "       0., 0., 0., 0., 0., 0., 0., 0., 0., 0., 0., 0., 0., 0., 0., 0., 0.,\n",
       "       0., 0., 0., 0., 0., 0., 0., 0., 0., 0., 0., 0., 0., 0., 0., 0., 0.,\n",
       "       0., 0., 0., 0., 0., 0., 0., 0., 0., 0., 0., 0., 0., 0., 0., 0., 0.,\n",
       "       0., 0., 0., 0., 0., 0., 0., 0., 0., 0., 0., 0., 0., 0., 0., 0., 0.,\n",
       "       0., 0., 0., 0., 0., 0., 0., 0., 0., 0., 0., 0., 0., 0., 0., 0., 0.,\n",
       "       0., 0., 0., 0., 0., 0., 0., 0., 0., 0., 0.], dtype=float32)"
      ]
     },
     "execution_count": 26,
     "metadata": {},
     "output_type": "execute_result"
    }
   ],
   "source": [
    "biases"
   ]
  },
  {
   "cell_type": "code",
   "execution_count": 27,
   "metadata": {},
   "outputs": [
    {
     "data": {
      "text/plain": [
       "(300,)"
      ]
     },
     "execution_count": 27,
     "metadata": {},
     "output_type": "execute_result"
    }
   ],
   "source": [
    "biases.shape"
   ]
  },
  {
   "cell_type": "code",
   "execution_count": 28,
   "metadata": {},
   "outputs": [],
   "source": [
    "# After a model is created, you must call it's compile() method to specify\n",
    "# the loss function and the optimizer to use. Also can specify a list of extra\n",
    "# metrics to compute during training and evaluation\n",
    "\n",
    "model.compile(loss='sparse_categorical_crossentropy', optimizer='sgd', metrics=['accuracy'])\n"
   ]
  },
  {
   "cell_type": "code",
   "execution_count": 29,
   "metadata": {},
   "outputs": [
    {
     "name": "stdout",
     "output_type": "stream",
     "text": [
      "Epoch 1/30\n",
      "1719/1719 [==============================] - 8s 4ms/step - loss: 0.7389 - accuracy: 0.7596 - val_loss: 0.5175 - val_accuracy: 0.8302\n",
      "Epoch 2/30\n",
      "1719/1719 [==============================] - 6s 4ms/step - loss: 0.4927 - accuracy: 0.8292 - val_loss: 0.4549 - val_accuracy: 0.8484\n",
      "Epoch 3/30\n",
      "1719/1719 [==============================] - 6s 4ms/step - loss: 0.4450 - accuracy: 0.8447 - val_loss: 0.4596 - val_accuracy: 0.8422\n",
      "Epoch 4/30\n",
      "1719/1719 [==============================] - 6s 4ms/step - loss: 0.4170 - accuracy: 0.8531 - val_loss: 0.4038 - val_accuracy: 0.8636\n",
      "Epoch 5/30\n",
      "1719/1719 [==============================] - 6s 4ms/step - loss: 0.3970 - accuracy: 0.8610 - val_loss: 0.3878 - val_accuracy: 0.8648\n",
      "Epoch 6/30\n",
      "1719/1719 [==============================] - 6s 4ms/step - loss: 0.3806 - accuracy: 0.8662 - val_loss: 0.3792 - val_accuracy: 0.8708\n",
      "Epoch 7/30\n",
      "1719/1719 [==============================] - 6s 4ms/step - loss: 0.3663 - accuracy: 0.8710 - val_loss: 0.3997 - val_accuracy: 0.8590\n",
      "Epoch 8/30\n",
      "1719/1719 [==============================] - 6s 4ms/step - loss: 0.3551 - accuracy: 0.8745 - val_loss: 0.3536 - val_accuracy: 0.8754\n",
      "Epoch 9/30\n",
      "1719/1719 [==============================] - 4s 2ms/step - loss: 0.3457 - accuracy: 0.8769 - val_loss: 0.3562 - val_accuracy: 0.8744\n",
      "Epoch 10/30\n",
      "1719/1719 [==============================] - 3s 2ms/step - loss: 0.3365 - accuracy: 0.8805 - val_loss: 0.3409 - val_accuracy: 0.8776\n",
      "Epoch 11/30\n",
      "1719/1719 [==============================] - 3s 2ms/step - loss: 0.3287 - accuracy: 0.8828 - val_loss: 0.3314 - val_accuracy: 0.8830\n",
      "Epoch 12/30\n",
      "1719/1719 [==============================] - 3s 2ms/step - loss: 0.3192 - accuracy: 0.8867 - val_loss: 0.3295 - val_accuracy: 0.8864\n",
      "Epoch 13/30\n",
      "1719/1719 [==============================] - 3s 2ms/step - loss: 0.3131 - accuracy: 0.8878 - val_loss: 0.3276 - val_accuracy: 0.8798\n",
      "Epoch 14/30\n",
      "1719/1719 [==============================] - 3s 2ms/step - loss: 0.3065 - accuracy: 0.8899 - val_loss: 0.3224 - val_accuracy: 0.8832\n",
      "Epoch 15/30\n",
      "1719/1719 [==============================] - 3s 2ms/step - loss: 0.2988 - accuracy: 0.8931 - val_loss: 0.3374 - val_accuracy: 0.8788\n",
      "Epoch 16/30\n",
      "1719/1719 [==============================] - 3s 2ms/step - loss: 0.2939 - accuracy: 0.8941 - val_loss: 0.3252 - val_accuracy: 0.8824\n",
      "Epoch 17/30\n",
      "1719/1719 [==============================] - 3s 2ms/step - loss: 0.2876 - accuracy: 0.8965 - val_loss: 0.3440 - val_accuracy: 0.8752\n",
      "Epoch 18/30\n",
      "1719/1719 [==============================] - 3s 2ms/step - loss: 0.2813 - accuracy: 0.8992 - val_loss: 0.3221 - val_accuracy: 0.8848\n",
      "Epoch 19/30\n",
      "1719/1719 [==============================] - 3s 2ms/step - loss: 0.2764 - accuracy: 0.9008 - val_loss: 0.3168 - val_accuracy: 0.8862\n",
      "Epoch 20/30\n",
      "1719/1719 [==============================] - 3s 2ms/step - loss: 0.2714 - accuracy: 0.9017 - val_loss: 0.3068 - val_accuracy: 0.8908\n",
      "Epoch 21/30\n",
      "1719/1719 [==============================] - 3s 2ms/step - loss: 0.2662 - accuracy: 0.9047 - val_loss: 0.2982 - val_accuracy: 0.8866\n",
      "Epoch 22/30\n",
      "1719/1719 [==============================] - 3s 2ms/step - loss: 0.2616 - accuracy: 0.9059 - val_loss: 0.3018 - val_accuracy: 0.8910\n",
      "Epoch 23/30\n",
      "1719/1719 [==============================] - 3s 2ms/step - loss: 0.2566 - accuracy: 0.9065 - val_loss: 0.3049 - val_accuracy: 0.8854\n",
      "Epoch 24/30\n",
      "1719/1719 [==============================] - 3s 2ms/step - loss: 0.2518 - accuracy: 0.9082 - val_loss: 0.3211 - val_accuracy: 0.8830\n",
      "Epoch 25/30\n",
      "1719/1719 [==============================] - 3s 2ms/step - loss: 0.2475 - accuracy: 0.9098 - val_loss: 0.3107 - val_accuracy: 0.8886\n",
      "Epoch 26/30\n",
      "1719/1719 [==============================] - 3s 2ms/step - loss: 0.2435 - accuracy: 0.9126 - val_loss: 0.3115 - val_accuracy: 0.8840\n",
      "Epoch 27/30\n",
      "1719/1719 [==============================] - 3s 2ms/step - loss: 0.2388 - accuracy: 0.9131 - val_loss: 0.2963 - val_accuracy: 0.8912\n",
      "Epoch 28/30\n",
      "1719/1719 [==============================] - 3s 2ms/step - loss: 0.2345 - accuracy: 0.9156 - val_loss: 0.2917 - val_accuracy: 0.8932\n",
      "Epoch 29/30\n",
      "1719/1719 [==============================] - 3s 2ms/step - loss: 0.2309 - accuracy: 0.9167 - val_loss: 0.3174 - val_accuracy: 0.8884\n",
      "Epoch 30/30\n",
      "1719/1719 [==============================] - 3s 2ms/step - loss: 0.2264 - accuracy: 0.9185 - val_loss: 0.2937 - val_accuracy: 0.8906\n"
     ]
    }
   ],
   "source": [
    "history = model.fit(X_train, y_train, epochs=30, validation_data=(X_valid, y_valid))"
   ]
  },
  {
   "cell_type": "markdown",
   "metadata": {},
   "source": [
    "### Per last epoch\n",
    "We can see the validation is 89%\n",
    "<br><br>\n",
    "### Epochs\n",
    "in terms of ANNs, an epoch refers to one cycle through the full training dataset. Usually training a neural network takes more than a few epochs. In other words, if we feed a neural network the training data for more than one epoch in different patters, we hope for a better generalization when given a new 'unseen' input(test set). Epochs are often mixed up with an iteration. Iterations is the number of batches or steps through partitioned packets of the training data, needed to complete one epoch.<br>\n",
    "https://deepai.org/machine-learning-glossary-and-terms/epoch"
   ]
  },
  {
   "cell_type": "code",
   "execution_count": 31,
   "metadata": {},
   "outputs": [
    {
     "data": {
      "image/png": "[encoded data removed]",
      "text/plain": [
       "<Figure size 576x360 with 1 Axes>"
      ]
     },
     "metadata": {
      "needs_background": "light"
     },
     "output_type": "display_data"
    }
   ],
   "source": [
    "import pandas as pd\n",
    "import matplotlib.pyplot as plt\n",
    "pd.DataFrame(history.history).plot(figsize=(8, 5))\n",
    "plt.grid(True)\n",
    "plt.gca().set_ylim(0,1) # set the bertical range from [0-1]\n",
    "plt.show()"
   ]
  },
  {
   "cell_type": "markdown",
   "metadata": {},
   "source": [
    "From the graph above, we can see that both the training and validation accuracy steadily increase during training, while the training and validation loss decrease. Good! Moreover, the validation curbes are quite close to the training curves, which means that there is not too much overfitting. "
   ]
  },
  {
   "cell_type": "code",
   "execution_count": 32,
   "metadata": {},
   "outputs": [
    {
     "name": "stdout",
     "output_type": "stream",
     "text": [
      "313/313 [==============================] - 1s 2ms/step - loss: 57.5352 - accuracy: 0.8532\n"
     ]
    },
    {
     "data": {
      "text/plain": [
       "[57.535186767578125, 0.8532000184059143]"
      ]
     },
     "execution_count": 32,
     "metadata": {},
     "output_type": "execute_result"
    }
   ],
   "source": [
    "# Once satisfied with the accuracy, you can use evaluate() method to evaluate the on the test set to estimate the generalization error before deploying\n",
    "model.evaluate(X_test, y_test)"
   ]
  },
  {
   "cell_type": "code",
   "execution_count": 33,
   "metadata": {},
   "outputs": [
    {
     "data": {
      "text/plain": [
       "array([[0., 0., 0., 0., 0., 0., 0., 0., 0., 1.],\n",
       "       [0., 0., 1., 0., 0., 0., 0., 0., 0., 0.],\n",
       "       [0., 1., 0., 0., 0., 0., 0., 0., 0., 0.]], dtype=float32)"
      ]
     },
     "execution_count": 33,
     "metadata": {},
     "output_type": "execute_result"
    }
   ],
   "source": [
    "# Using the model to make predictions\n",
    "X_new = X_test[:3]\n",
    "y_proba = model.predict(X_new)\n",
    "y_proba.round(2)"
   ]
  },
  {
   "cell_type": "markdown",
   "metadata": {},
   "source": [
    "### Bulding a Regression MLP using the Sequential API\n"
   ]
  },
  {
   "cell_type": "code",
   "execution_count": 34,
   "metadata": {},
   "outputs": [],
   "source": [
    "from sklearn.datasets import fetch_california_housing\n",
    "from sklearn.model_selection import train_test_split\n",
    "from sklearn.preprocessing import StandardScaler\n",
    "\n",
    "housing = fetch_california_housing()\n",
    "\n",
    "X_train_full, X_test, y_train_full, y_test = train_test_split(\n",
    "    housing.data, housing.target\n",
    ")\n",
    "\n",
    "X_train, X_valid, y_train, y_valid = train_test_split(\n",
    "    X_train_full, y_train_full\n",
    ")\n",
    "\n",
    "scaler = StandardScaler()\n",
    "X_train_scaled = scaler.fit_transform(X_train)\n",
    "X_valud_scaled = scaler.transform(X_valid)\n",
    "X_test_scaled = scaler.transform(X_test)"
   ]
  },
  {
   "cell_type": "code",
   "execution_count": 35,
   "metadata": {},
   "outputs": [
    {
     "name": "stdout",
     "output_type": "stream",
     "text": [
      "Epoch 1/20\n",
      "363/363 [==============================] - 1s 1ms/step - loss: nan - val_loss: nan\n",
      "Epoch 2/20\n",
      "363/363 [==============================] - 0s 1ms/step - loss: nan - val_loss: nan\n",
      "Epoch 3/20\n",
      "363/363 [==============================] - 0s 1ms/step - loss: nan - val_loss: nan\n",
      "Epoch 4/20\n",
      "363/363 [==============================] - 0s 1ms/step - loss: nan - val_loss: nan\n",
      "Epoch 5/20\n",
      "363/363 [==============================] - 0s 1ms/step - loss: nan - val_loss: nan\n",
      "Epoch 6/20\n",
      "363/363 [==============================] - 0s 1ms/step - loss: nan - val_loss: nan\n",
      "Epoch 7/20\n",
      "363/363 [==============================] - 0s 1ms/step - loss: nan - val_loss: nan\n",
      "Epoch 8/20\n",
      "363/363 [==============================] - 0s 1ms/step - loss: nan - val_loss: nan\n",
      "Epoch 9/20\n",
      "363/363 [==============================] - 0s 1ms/step - loss: nan - val_loss: nan\n",
      "Epoch 10/20\n",
      "363/363 [==============================] - 0s 1ms/step - loss: nan - val_loss: nan\n",
      "Epoch 11/20\n",
      "363/363 [==============================] - 0s 1ms/step - loss: nan - val_loss: nan\n",
      "Epoch 12/20\n",
      "363/363 [==============================] - 0s 1ms/step - loss: nan - val_loss: nan\n",
      "Epoch 13/20\n",
      "363/363 [==============================] - 0s 1ms/step - loss: nan - val_loss: nan\n",
      "Epoch 14/20\n",
      "363/363 [==============================] - 0s 1ms/step - loss: nan - val_loss: nan\n",
      "Epoch 15/20\n",
      "363/363 [==============================] - 0s 1ms/step - loss: nan - val_loss: nan\n",
      "Epoch 16/20\n",
      "363/363 [==============================] - 0s 1ms/step - loss: nan - val_loss: nan\n",
      "Epoch 17/20\n",
      "363/363 [==============================] - 0s 1ms/step - loss: nan - val_loss: nan\n",
      "Epoch 18/20\n",
      "363/363 [==============================] - 0s 1ms/step - loss: nan - val_loss: nan\n",
      "Epoch 19/20\n",
      "363/363 [==============================] - 0s 1ms/step - loss: nan - val_loss: nan\n",
      "Epoch 20/20\n",
      "363/363 [==============================] - 0s 1ms/step - loss: nan - val_loss: nan\n",
      "162/162 [==============================] - 0s 738us/step - loss: nan\n"
     ]
    }
   ],
   "source": [
    "# Main difference is that the output layer has a single neuron, since we only want to predict a single value\n",
    "\n",
    "model = keras.models.Sequential([\n",
    "    keras.layers.Dense(30, activation='relu', input_shape=X_train.shape[1:]),\n",
    "    keras.layers.Dense(1)\n",
    "])\n",
    "\n",
    "model.compile(loss='mean_squared_error', optimizer='sgd')\n",
    "history = model.fit(X_train, y_train, epochs=20, validation_data=(X_valid, y_valid))\n",
    "\n",
    "mse_test = model.evaluate(X_test, y_test)\n",
    "\n",
    "X_new = X_test[:3] #pretend these are new instances\n",
    "y_pred = model.predict(X_new)"
   ]
  },
  {
   "cell_type": "markdown",
   "metadata": {},
   "source": [
    "# Building complex models using the functional API\n",
    "\n",
    "an example of a non-sequential neural network is a **Wide and Deep** neural network. It connects all or part of the inputs directly to the output layer. <br>\n",
    "<img src=\"../img/wide_and_deep.png\" alt=\"Wide and Deep Neural Network\" style=\"width: 500px;\"/><br>\n"
   ]
  }
 ],
 "metadata": {
  "interpreter": {
   "hash": "d2741c62eeb6d3c2dbd0c707b9d4df7ca82c89a9cca53ee8435971b6b6816686"
  },
  "kernelspec": {
   "display_name": "Python 3.9.5 64-bit",
   "language": "python",
   "name": "python3"
  },
  "language_info": {
   "codemirror_mode": {
    "name": "ipython",
    "version": 3
   },
   "file_extension": ".py",
   "mimetype": "text/x-python",
   "name": "python",
   "nbconvert_exporter": "python",
   "pygments_lexer": "ipython3",
   "version": "3.9.5"
  },
  "orig_nbformat": 4
 },
 "nbformat": 4,
 "nbformat_minor": 2
}
